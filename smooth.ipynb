{
 "cells": [
  {
   "cell_type": "code",
   "execution_count": 14,
   "metadata": {},
   "outputs": [],
   "source": [
    "import torch\n",
    "import torch.nn as nn\n",
    "import torch.nn.functional as F\n",
    "from transformers import pipeline, AutoTokenizer, AutoModelForMaskedLM\n",
    "\n",
    "tokenizer = AutoTokenizer.from_pretrained(\"roberta-base\")\n",
    "model = AutoModelForMaskedLM.from_pretrained(\"roberta-base\")\n"
   ]
  },
  {
   "cell_type": "code",
   "execution_count": 15,
   "metadata": {},
   "outputs": [],
   "source": [
    "def get_mask_features(sentence, position=None):\n",
    "    model.eval()\n",
    "    inputs = tokenizer(sentence, return_tensors=\"pt\")\n",
    "    mask_index = int(torch.where(inputs.input_ids == tokenizer.mask_token_id)[1])\n",
    "\n",
    "    if position is None:\n",
    "        position = mask_index\n",
    "\n",
    "    outputs = model(**inputs, output_hidden_states=True)\n",
    "    states = list(outputs.hidden_states) + [outputs.logits]\n",
    "    hidden_states = [state[:, position].view(-1) for state in states]\n",
    "    # print(outputs.logits[:,mask_index].argmax(dim=-1))\n",
    "    print(tokenizer.decode(outputs.logits[:,mask_index].argmax(dim=-1)[0]))\n",
    "    return hidden_states"
   ]
  },
  {
   "cell_type": "code",
   "execution_count": 28,
   "metadata": {},
   "outputs": [
    {
     "name": "stdout",
     "output_type": "stream",
     "text": [
      " cat\n",
      " cat\n"
     ]
    }
   ],
   "source": [
    "feats1 = get_mask_features(\"The man's longtime pet is a <mask>\")\n",
    "# feats2 = get_mask_features(\"The <mask> is man's most loved pet\")\n",
    "feats2 = get_mask_features(\"a <mask> chases mice down the street\")\n",
    "# feats2 = get_mask_features(\"<mask> is the largest nation in the world\")\n",
    "cosine_dists = [float(F.cosine_similarity(f1,f2, dim=0)) for (f1,f2) in zip(feats1, feats2)]\n",
    "dists = [float((f1-f2).norm() / (f1.norm() + f2.norm())) for (f1,f2) in zip(feats1, feats2)]"
   ]
  },
  {
   "cell_type": "code",
   "execution_count": 30,
   "metadata": {},
   "outputs": [
    {
     "name": "stdout",
     "output_type": "stream",
     "text": [
      "[0.8816180229187012, 0.910483181476593, 0.9310263395309448, 0.9080533385276794, 0.8896495699882507, 0.9022864103317261, 0.9151767492294312, 0.9155089855194092, 0.9133860468864441, 0.9118140935897827, 0.9168270826339722, 0.8952287435531616, 0.9398596286773682, 0.9119064807891846]\n"
     ]
    }
   ],
   "source": [
    "print(cosine_dists)"
   ]
  },
  {
   "cell_type": "code",
   "execution_count": null,
   "metadata": {},
   "outputs": [],
   "source": []
  }
 ],
 "metadata": {
  "kernelspec": {
   "display_name": "Python 3.8.5 ('base')",
   "language": "python",
   "name": "python3"
  },
  "language_info": {
   "codemirror_mode": {
    "name": "ipython",
    "version": 3
   },
   "file_extension": ".py",
   "mimetype": "text/x-python",
   "name": "python",
   "nbconvert_exporter": "python",
   "pygments_lexer": "ipython3",
   "version": "3.8.5"
  },
  "orig_nbformat": 4,
  "vscode": {
   "interpreter": {
    "hash": "a89d6a6c864bcdce534354bb2f113174f9edd5800a0d2d12bc74734426fef360"
   }
  }
 },
 "nbformat": 4,
 "nbformat_minor": 2
}
